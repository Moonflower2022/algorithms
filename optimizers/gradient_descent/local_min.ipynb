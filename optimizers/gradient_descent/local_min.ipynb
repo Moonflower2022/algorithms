{
 "cells": [
  {
   "cell_type": "code",
   "execution_count": null,
   "metadata": {},
   "outputs": [],
   "source": [
    "import autograd.numpy as np\n",
    "import matplotlib.pyplot as plt\n",
    "from autograd import elementwise_grad"
   ]
  },
  {
   "cell_type": "markdown",
   "metadata": {},
   "source": [
    "# finding local minimum clocest to starting point"
   ]
  },
  {
   "cell_type": "code",
   "execution_count": 2,
   "metadata": {},
   "outputs": [
    {
     "name": "stdout",
     "output_type": "stream",
     "text": [
      "x: 4.999999989898578\n",
      "f(x): 5.0\n"
     ]
    }
   ],
   "source": [
    "def f(x):\n",
    "    return (x - 5) ** 2 + 5\n",
    "\n",
    "f_desc = \"(x - 5)^2 + 5\"\n",
    "\n",
    "derivative = elementwise_grad(f)\n",
    "\n",
    "iterations = 10000\n",
    "learning_rate = 0.001\n",
    "\n",
    "point = np.array([0])\n",
    "\n",
    "for i in range(iterations):\n",
    "    point = point - learning_rate * derivative(point)\n",
    "\n",
    "print(\"x:\", point[0])\n",
    "print(\"f(x):\", f(point[0]))"
   ]
  }
 ],
 "metadata": {
  "kernelspec": {
   "display_name": "Python 3",
   "language": "python",
   "name": "python3"
  },
  "language_info": {
   "codemirror_mode": {
    "name": "ipython",
    "version": 3
   },
   "file_extension": ".py",
   "mimetype": "text/x-python",
   "name": "python",
   "nbconvert_exporter": "python",
   "pygments_lexer": "ipython3",
   "version": "3.11.4"
  }
 },
 "nbformat": 4,
 "nbformat_minor": 2
}
